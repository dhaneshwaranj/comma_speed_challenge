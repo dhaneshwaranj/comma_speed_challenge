{
 "cells": [
  {
   "cell_type": "code",
   "execution_count": 62,
   "metadata": {},
   "outputs": [],
   "source": [
    "import numpy as np\n",
    "import matplotlib.pyplot as plt\n",
    "import matplotlib.image as mpimg\n",
    "import cv2\n",
    "import os\n",
    "import sys"
   ]
  },
  {
   "cell_type": "code",
   "execution_count": 63,
   "metadata": {},
   "outputs": [],
   "source": [
    "def createOpticalFlowImages(video_file,save_location):\n",
    "    \n",
    "    video = cv2.VideoCapture(video_file)\n",
    "    ret, first = video.read()\n",
    "    \n",
    "    i = 1\n",
    "    while True:\n",
    "        ret, second = video.read()\n",
    "        \n",
    "        if not ret:\n",
    "            break\n",
    "        \n",
    "        opt_flow_img = opticalFlow(first,second)\n",
    "        # plt.imshow(opt_flow_img)\n",
    "        \n",
    "        cv2.imwrite(save_location+str(i)+\".jpg\", opt_flow_img)\n",
    "                \n",
    "        first = second\n",
    "        i+=1\n",
    "        \n",
    "    "
   ]
  },
  {
   "cell_type": "code",
   "execution_count": 64,
   "metadata": {},
   "outputs": [],
   "source": [
    "def opticalFlow(first,second):\n",
    "    \n",
    "    first = first[150:400]\n",
    "    second = second[150:400]\n",
    "    \n",
    "    first = cv2.resize(first, (300,100))\n",
    "    second = cv2.resize(second, (300,100))\n",
    "    \n",
    "    opt_flow_img = np.zeros_like(first)\n",
    "    opt_flow_img[...,1] = 255\n",
    "    \n",
    "    first = cv2.cvtColor(first,cv2.COLOR_BGR2GRAY)\n",
    "    second = cv2.cvtColor(second,cv2.COLOR_BGR2GRAY)\n",
    "    \n",
    "    pyr_scale = 0.5\n",
    "    levels = 3\n",
    "    winsize = 15\n",
    "    iterations = 3\n",
    "    poly_n = 7\n",
    "    poly_sigma = 1.5\n",
    "    \n",
    "    flow = cv2.calcOpticalFlowFarneback(first,second,None,pyr_scale,\n",
    "                                       levels,winsize,iterations,\n",
    "                                       poly_n,poly_sigma,0)\n",
    "        \n",
    "    mag, ang = cv2.cartToPolar(flow[..., 0], flow[..., 1])\n",
    "    opt_flow_img[:, :, 0] = ang * (180 / np.pi / 2)\n",
    "    opt_flow_img[:, :, 2] = cv2.normalize(mag, None, 0, 255, cv2.NORM_MINMAX)\n",
    "    # opt_flow_img = cv2.cvtColor(opt_flow_img,cv2.COLOR_HSV2BGR)\n",
    "    \n",
    "    return opt_flow_img\n",
    "    "
   ]
  },
  {
   "cell_type": "code",
   "execution_count": 65,
   "metadata": {},
   "outputs": [
    {
     "name": "stdout",
     "output_type": "stream",
     "text": [
      "Pre-processing the data\n",
      "20400\n"
     ]
    }
   ],
   "source": [
    "if __name__==\"__main__\":\n",
    "    \n",
    "    print(\"Pre-processing the data\")\n",
    "    \n",
    "    train_labels = \"./data/train.txt\"\n",
    "    train_video = \"./data/train.mp4\"\n",
    "    test_video = \"./data/test.mp4\"\n",
    "    \n",
    "    train_images_location = \"./data/train/\"\n",
    "    test_images_location = \"./data/test/\"\n",
    "    \n",
    "    labels = np.loadtxt(train_labels)\n",
    "    \n",
    "    print(len(labels))\n",
    "    # plt.plot(labels)\n",
    "    createOpticalFlowImages(test_video,test_images_location)\n",
    "    "
   ]
  },
  {
   "cell_type": "code",
   "execution_count": null,
   "metadata": {},
   "outputs": [],
   "source": []
  }
 ],
 "metadata": {
  "kernelspec": {
   "display_name": "Python 3",
   "language": "python",
   "name": "python3"
  },
  "language_info": {
   "codemirror_mode": {
    "name": "ipython",
    "version": 3
   },
   "file_extension": ".py",
   "mimetype": "text/x-python",
   "name": "python",
   "nbconvert_exporter": "python",
   "pygments_lexer": "ipython3",
   "version": "3.6.10"
  }
 },
 "nbformat": 4,
 "nbformat_minor": 4
}
